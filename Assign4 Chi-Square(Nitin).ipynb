{
 "cells": [
  {
   "cell_type": "markdown",
   "id": "2934da00",
   "metadata": {},
   "source": [
    "Null Hypothesis (H0): It states that there is no relation between the variables (customer satisfaction level and smart home device) whereas\n",
    "Alternate Hypothesis (H1): It states that there is a significant relationship between the two variables. "
   ]
  },
  {
   "cell_type": "markdown",
   "id": "82315b98",
   "metadata": {},
   "source": [
    " Now, we will verify our hypothesis using Chi-Square value (χ2 ).\n",
    "If our calculated value of χ2  <= critical value of χ2  , then we will accept our null hypothesis (H0). \n",
    "So, first let's calculate the value of χ2"
   ]
  },
  {
   "cell_type": "markdown",
   "id": "9a9d3fdf",
   "metadata": {},
   "source": [
    "Calculate the value of χ2 : In scipy library, there is a sublibrary stats which is having a function chi2_contingency => this function will calculate the value of χ2"
   ]
  },
  {
   "cell_type": "code",
   "execution_count": 1,
   "id": "32ce8671",
   "metadata": {},
   "outputs": [],
   "source": [
    "from scipy import stats #import sublib. stats"
   ]
  },
  {
   "cell_type": "code",
   "execution_count": 2,
   "id": "fa5e8419",
   "metadata": {},
   "outputs": [],
   "source": [
    "data = [[50,70],[80,100],[60,90],[30,50],[20,50]] #defining the contingency table "
   ]
  },
  {
   "cell_type": "code",
   "execution_count": 3,
   "id": "c9d09b2b",
   "metadata": {},
   "outputs": [
    {
     "data": {
      "text/plain": [
       "[[50, 70], [80, 100], [60, 90], [30, 50], [20, 50]]"
      ]
     },
     "execution_count": 3,
     "metadata": {},
     "output_type": "execute_result"
    }
   ],
   "source": [
    "data"
   ]
  },
  {
   "cell_type": "code",
   "execution_count": 4,
   "id": "a2bc4d99",
   "metadata": {},
   "outputs": [],
   "source": [
    "x=stats.chi2_contingency(data) #this function will take contingency table as input and it return a tuple having value of χ2 , p-value,degrees of freedom,expected values table"
   ]
  },
  {
   "cell_type": "code",
   "execution_count": 5,
   "id": "f225a611",
   "metadata": {},
   "outputs": [
    {
     "data": {
      "text/plain": [
       "(5.638227513227513,\n",
       " 0.22784371130697179,\n",
       " 4,\n",
       " array([[ 48.,  72.],\n",
       "        [ 72., 108.],\n",
       "        [ 60.,  90.],\n",
       "        [ 32.,  48.],\n",
       "        [ 28.,  42.]]))"
      ]
     },
     "execution_count": 5,
     "metadata": {},
     "output_type": "execute_result"
    }
   ],
   "source": [
    "x"
   ]
  },
  {
   "cell_type": "markdown",
   "id": "21d0251f",
   "metadata": {},
   "source": [
    "Out[5] shows Calculated value of χ2 = 5.63, p-value(probability)=0.227, degree of freedom = 4, and then  expected values table "
   ]
  },
  {
   "cell_type": "markdown",
   "id": "b303a8f0",
   "metadata": {},
   "source": [
    "Now, to determine critical value of χ2 , refer to Chi-Square distribution table with degree of freedom =4 and alpha = 0.05.\n",
    "critical value of χ2  = 9.488. Since, our calculated value of χ2  <= critical value of χ2  , therefore, we will accept our null hypothesis (H0) i.e. there is no relation between the variables (customer satisfaction level and smart home device)  "
   ]
  },
  {
   "cell_type": "markdown",
   "id": "acd093b5",
   "metadata": {},
   "source": [
    "We can also use p-value to verify our hypothesis. If p-value > level of significance (alpha) => then we will accept our null hypothesis. Since, p-value = 0.227 > alpha, therefore, we will accept our null hypothesis (H0) i.e. there is no relation between the variables (customer satisfaction level and smart home device)  "
   ]
  },
  {
   "cell_type": "markdown",
   "id": "209420ff",
   "metadata": {},
   "source": [
    "we can also write a code for the above explanation"
   ]
  },
  {
   "cell_type": "code",
   "execution_count": 6,
   "id": "dbeac10f",
   "metadata": {},
   "outputs": [
    {
     "name": "stdout",
     "output_type": "stream",
     "text": [
      "Calculated value of Chi-Square: 5.638227513227513\n",
      "p-value: 0.22784371130697179\n",
      "degree of freedom: 4\n",
      "Expected value Table: [[ 48.  72.]\n",
      " [ 72. 108.]\n",
      " [ 60.  90.]\n",
      " [ 32.  48.]\n",
      " [ 28.  42.]]\n"
     ]
    }
   ],
   "source": [
    "chisquare_stat,p,dof,expected = stats.chi2_contingency(data)\n",
    "print(\"Calculated value of Chi-Square:\", chisquare_stat)\n",
    "print(\"p-value:\",p)\n",
    "print(\"degree of freedom:\",dof)\n",
    "print(\"Expected value Table:\",expected)"
   ]
  },
  {
   "cell_type": "code",
   "execution_count": 7,
   "id": "6703f4c3",
   "metadata": {},
   "outputs": [],
   "source": [
    "alpha = 0.05"
   ]
  },
  {
   "cell_type": "code",
   "execution_count": 8,
   "id": "69352590",
   "metadata": {},
   "outputs": [
    {
     "name": "stdout",
     "output_type": "stream",
     "text": [
      "null hypothesis H0 is accepted\n"
     ]
    }
   ],
   "source": [
    "if p <= alpha:\n",
    "    print('null hypothesis H0 is rejected')\n",
    "else:\n",
    "    print('null hypothesis H0 is accepted')"
   ]
  },
  {
   "cell_type": "code",
   "execution_count": null,
   "id": "b4f5e8ea",
   "metadata": {},
   "outputs": [],
   "source": []
  }
 ],
 "metadata": {
  "kernelspec": {
   "display_name": "Python 3 (ipykernel)",
   "language": "python",
   "name": "python3"
  },
  "language_info": {
   "codemirror_mode": {
    "name": "ipython",
    "version": 3
   },
   "file_extension": ".py",
   "mimetype": "text/x-python",
   "name": "python",
   "nbconvert_exporter": "python",
   "pygments_lexer": "ipython3",
   "version": "3.9.13"
  }
 },
 "nbformat": 4,
 "nbformat_minor": 5
}
